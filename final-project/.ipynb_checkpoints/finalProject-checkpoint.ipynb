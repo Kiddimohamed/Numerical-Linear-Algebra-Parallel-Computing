{
 "cells": [
  {
   "cell_type": "markdown",
   "id": "9ac88de7",
   "metadata": {},
   "source": [
    "# Final Project"
   ]
  },
  {
   "cell_type": "markdown",
   "id": "c1f9c6ee",
   "metadata": {},
   "source": [
    "## Part 1"
   ]
  },
  {
   "cell_type": "markdown",
   "id": "c194fd99",
   "metadata": {},
   "source": [
    "The cell below is for imports. You are only allowed to use `numpy` for this part.No additional imports are allowed"
   ]
  },
  {
   "cell_type": "code",
   "execution_count": 1,
   "id": "7ec9748a",
   "metadata": {},
   "outputs": [
    {
     "name": "stderr",
     "output_type": "stream",
     "text": [
      "hwloc/linux: Ignoring PCI device with non-16bit domain.\n",
      "Pass --enable-32bits-pci-domain to configure to support such devices\n",
      "(warning: it would break the library ABI, don't enable unless really needed).\n",
      "hwloc/linux: Ignoring PCI device with non-16bit domain.\n",
      "Pass --enable-32bits-pci-domain to configure to support such devices\n",
      "(warning: it would break the library ABI, don't enable unless really needed).\n"
     ]
    }
   ],
   "source": [
    "import numpy as np\n",
    "from mpi4py import MPI\n",
    "\n",
    "comm   = MPI.COMM_WORLD\n",
    "nprocs = comm.Get_size()\n",
    "rank   = comm.Get_rank()"
   ]
  },
  {
   "cell_type": "markdown",
   "id": "cc7db55b",
   "metadata": {},
   "source": [
    "Now, we will create our class `SparseMatrix`"
   ]
  },
  {
   "cell_type": "markdown",
   "id": "ae185b22",
   "metadata": {},
   "source": [
    "The class will represent a sparse matrix in `COO` format.\\\n",
    "it should also keep track of the shape of the matrix.\\\n",
    "You need to add the necessary attributes to your class to account for the aforementioned requirements"
   ]
  },
  {
   "cell_type": "markdown",
   "id": "406a53b0",
   "metadata": {},
   "source": [
    "Let's start with the `__init__` method of our class:\\\n",
    "it should take one additional argument `arg` that will represent the various objects from which we can instantiate our class."
   ]
  },
  {
   "cell_type": "markdown",
   "id": "98fc47d4",
   "metadata": {},
   "source": [
    "First, we should be able to construct an instance of our class from a regular `numpy` 2d array. \\\n",
    "Inside the `__init__` method, check if `arg` is an instance of a `numpy` array. \\\n",
    "Then, check if the provided array represents a valid matrix.\\\n",
    "If it is not the case, an exception should be raised "
   ]
  },
  {
   "cell_type": "code",
   "execution_count": 2,
   "id": "d70820f1",
   "metadata": {},
   "outputs": [
    {
     "ename": "SyntaxError",
     "evalue": "incomplete input (1606414114.py, line 2)",
     "output_type": "error",
     "traceback": [
      "\u001b[0;36m  Cell \u001b[0;32mIn [2], line 2\u001b[0;36m\u001b[0m\n\u001b[0;31m    def __init__(self, arg):\u001b[0m\n\u001b[0m                            ^\u001b[0m\n\u001b[0;31mSyntaxError\u001b[0m\u001b[0;31m:\u001b[0m incomplete input\n"
     ]
    }
   ],
   "source": [
    "class SparseMatrix:    \n",
    "    def __init__(self, arg):"
   ]
  },
  {
   "cell_type": "markdown",
   "id": "7546ed1e",
   "metadata": {},
   "source": [
    "Next, we should be able to construct an instance of our class from a tuple of 3 `numpy` arrays representing a matrix in `COO` format (x, Y, Values)\\\n",
    "Extend the __init__ method by checking if arg is an instance of this case.\n",
    "Then, check if the provided array represents a valid matrix.\n",
    "If it is not the case, an exception should be raised"
   ]
  },
  {
   "cell_type": "code",
   "execution_count": null,
   "id": "3f6a8951",
   "metadata": {},
   "outputs": [],
   "source": [
    "class SparseMatrix:    \n",
    "    def __init__(self, arg):"
   ]
  },
  {
   "cell_type": "markdown",
   "id": "52e34f2f",
   "metadata": {},
   "source": [
    "Create a function `cooTranspose` that takes an instance of our class `SparseMatrix` and returns its transpose."
   ]
  },
  {
   "cell_type": "code",
   "execution_count": null,
   "id": "da54df57",
   "metadata": {},
   "outputs": [],
   "source": [
    "def cooTranspose(a):"
   ]
  },
  {
   "cell_type": "markdown",
   "id": "43ff9748",
   "metadata": {},
   "source": [
    "Create a function `cooMatVec` that takes an instance of our class `SparseMatrix` and a vector \\ \n",
    "as a `numpy` array and returns their product."
   ]
  },
  {
   "cell_type": "code",
   "execution_count": null,
   "id": "3d6d0c8c",
   "metadata": {},
   "outputs": [],
   "source": [
    "def cooMatVec(A, x):"
   ]
  },
  {
   "cell_type": "markdown",
   "id": "6dde3a44",
   "metadata": {},
   "source": [
    "create a function cooMatMat that takes two instances of our class `SparseMatrix` and \\ \n",
    "returns their matrix product as a 2 dimentional numpy array"
   ]
  },
  {
   "cell_type": "code",
   "execution_count": null,
   "id": "c318df2a",
   "metadata": {},
   "outputs": [],
   "source": [
    "def cooMatMat(A, B):"
   ]
  },
  {
   "cell_type": "markdown",
   "id": "07f382b8",
   "metadata": {},
   "source": [
    "# Part 2"
   ]
  },
  {
   "cell_type": "markdown",
   "id": "c085bc0b",
   "metadata": {},
   "source": [
    "In this part, we will be solving a system of linear equations involving a sparse matrix `A` in parallel. \\\n",
    "You will not have to solve the system. However, you will have to implement the function `CreateLocalMatVec` that sets the system for the class `LinearSystem`. \\\n",
    "At the end, compare the results and explain any discrepancies."
   ]
  },
  {
   "cell_type": "code",
   "execution_count": 3,
   "id": "ed40937f",
   "metadata": {},
   "outputs": [],
   "source": [
    "#Create the matrix and Rhs\n",
    "np.random.seed(42)\n",
    "from scipy.sparse import random\n",
    "if rank == 0:\n",
    "    n = 100\n",
    "    # Set parameters for the sparse matrix\n",
    "    density = 0.3 # density of non-zero elements (between 0 and 1)\n",
    "    A =  random(n, n, density=density, format='csr')\n",
    "    x = np.random.rand(n)\n",
    "    B_all = np.dot(A.toarray(),x)\n",
    "else:\n",
    "    A = None\n",
    "    B_all = None"
   ]
  },
  {
   "cell_type": "code",
   "execution_count": null,
   "id": "d402b839",
   "metadata": {},
   "outputs": [],
   "source": [
    "def CreateLocalMatVec(A, B_all):\n",
    "    if rank == 0:\n",
    "        \n",
    "        \n",
    "        shape = A.shape\n",
    "        nrows = shape[0]\n",
    "        # split the number of rows evenly (as possible) among the MPI tasks\n",
    "        N_pertask, extra =\n",
    "    \n",
    "        # count: the size of each sub-task\n",
    "        count =\n",
    "    \n",
    "        # displacement: the starting index of each sub-task\n",
    "        displ =\n",
    "    \n",
    "        #---- Send the relevant subsets of A and B to each slave MPI task ----\n",
    "        for i in range(1,nprocs):\n",
    "    \n",
    "            # Get the start and end row index for this MPI task\n",
    "            rstart = \n",
    "            rend   = \n",
    "    \n",
    "            #---- Get the subsets of A and B using these rows ----\n",
    "            A_indptr  =  # modified row-pointer array that will be consistent on the MPI task\n",
    "            \n",
    "            pstart    =     # starting row-pointer index\n",
    "            pend      =       # end      row-pointer index\n",
    "    \n",
    "            A_indices = \n",
    "            A_data    = \n",
    "            B         = \n",
    "    \n",
    "            # Save the lengths of each array\n",
    "            lengths = {\n",
    "                    'A_indptr' : \n",
    "                    'A_indices': \n",
    "                    'A_data'   : \n",
    "                    'B'        : \n",
    "                    }\n",
    "    \n",
    "            # Send the arrays and their lenghts to the relevant MPI task\n",
    "            comm.send()\n",
    "            comm.Send()\n",
    "            comm.Send()\n",
    "            comm.Send()\n",
    "            comm.Send()\n",
    "    \n",
    "        #---- Set the relevant subsets of A and B for the master MPI task (we don't need to do an MPI Send)\n",
    "        rstart = \n",
    "        rend   = \n",
    "    \n",
    "        A_indptr  = \n",
    "        pstart    = \n",
    "        pend      = \n",
    "        A_indices = \n",
    "        A_data    = \n",
    "        B         = \n",
    "    \n",
    "    else:\n",
    "        # Receive the array lengths\n",
    "        lengths   = \n",
    "        # Initialise the buffers\n",
    "        A_indptr  = np.empty()\n",
    "        A_indices = np.empty()\n",
    "        A_data    = np.empty()\n",
    "        B         = np.empty()\n",
    "        # Receive the arrays\n",
    "        comm.Recv()\n",
    "        comm.Recv()\n",
    "        comm.Recv()\n",
    "        comm.Recv()\n",
    "    \n",
    "        shape = \n",
    "    \n",
    "    #broadcast shape\n",
    "    shape = \n",
    "\n",
    "        \n",
    "    return (A_indptr, A_indices, A_data, B, shape)"
   ]
  },
  {
   "cell_type": "code",
   "execution_count": 6,
   "id": "4680a31c",
   "metadata": {},
   "outputs": [],
   "source": [
    "def CreateLocalMatVec(A, B_all):\n",
    "    if rank == 0:\n",
    "        shape = A.shape\n",
    "        nrows = shape[0]\n",
    "        # split the number of rows evenly (as possible) among the MPI tasks\n",
    "        N_pertask, extra = divmod(nrows, nprocs)\n",
    "        counts = [N_pertask + 1 if i < extra else N_pertask for i in range(nprocs)]\n",
    "        displacements = [sum(counts[:i]) for i in range(nprocs)]\n",
    "\n",
    "        #---- Send the relevant subsets of A and B to each slave MPI task ----\n",
    "        for i in range(1,nprocs):\n",
    "            # Get the start and end row index for this MPI task\n",
    "            rstart = displacements[i]\n",
    "            rend   = rstart + counts[i]\n",
    "\n",
    "            #---- Get the subsets of A and B using these rows ----\n",
    "            A_indptr  = np.copy(A.indptr)\n",
    "            A_indices = np.copy(A.indices[A.indptr[rstart]:A.indptr[rend]])\n",
    "            A_data    = np.copy(A.data[A.indptr[rstart]:A.indptr[rend]])\n",
    "            B         = np.copy(B_all[rstart:rend])\n",
    "\n",
    "            # Save the lengths of each array\n",
    "            lengths = {\n",
    "                    'A_indptr' : len(A_indptr),\n",
    "                    'A_indices': len(A_indices),\n",
    "                    'A_data'   : len(A_data),\n",
    "                    'B'        : len(B),\n",
    "                    }\n",
    "\n",
    "            # Send the arrays and their lengths to the relevant MPI task\n",
    "            comm.send(lengths, dest=i)\n",
    "            comm.Send(A_indptr,  dest=i)\n",
    "            comm.Send(A_indices, dest=i)\n",
    "            comm.Send(A_data,    dest=i)\n",
    "            comm.Send(B,         dest=i)\n",
    "\n",
    "        #---- Set the relevant subsets of A and B for the master MPI task (we don't need to do an MPI Send)\n",
    "        rstart = displacements[0]\n",
    "        rend   = rstart + counts[0]\n",
    "\n",
    "        A_indptr  = np.copy(A.indptr)\n",
    "        A_indices = np.copy(A.indices[A.indptr[rstart]:A.indptr[rend]])\n",
    "        A_data    = np.copy(A.data[A.indptr[rstart]:A.indptr[rend]])\n",
    "        B         = np.copy(B_all[rstart:rend])\n",
    "\n",
    "    else:\n",
    "        # Receive the array lengths\n",
    "        lengths   = comm.recv(source=0)\n",
    "\n",
    "        # Initialise the buffers\n",
    "        A_indptr  = np.empty(lengths['A_indptr'], dtype=np.int32)\n",
    "        A_indices = np.empty(lengths['A_indices'], dtype=np.int32)\n",
    "        A_data    = np.empty(lengths['A_data'], dtype=np.float64)\n",
    "        B         = np.empty(lengths['B'], dtype=np.float64)\n",
    "\n",
    "        # Receive the arrays\n",
    "        comm.Recv(A_indptr,  source=0)\n",
    "        comm.Recv(A_indices, source=0)\n",
    "        comm.Recv(A_data,    source=0)\n",
    "        comm.Recv(B,         source=0)\n",
    "\n",
    "        shape = None\n",
    "\n",
    "    # broadcast shape\n",
    "    shape = comm.bcast(shape, root=0)\n",
    "\n",
    "    return (A_indptr, A_indices, A_data, B, shape)"
   ]
  },
  {
   "cell_type": "code",
   "execution_count": 7,
   "id": "094c5f84",
   "metadata": {},
   "outputs": [],
   "source": [
    "class LinearSystem():\n",
    "    def __init__(self, A=None, shape=None, rhs=None, solver=None, comm=None):\n",
    "        \n",
    "        from petsc4py import PETSc\n",
    "        self.opts = PETSc.Options()\n",
    "\n",
    "        self.ksp = PETSc.KSP()\n",
    "        self.ksp.create()\n",
    "        \n",
    "        mat = PETSc.Mat().createAIJ(comm=comm, size=shape, csr=A)\n",
    "        mat.setUp()\n",
    "        mat.assemblyBegin()\n",
    "        mat.assemblyEnd()\n",
    "        self.sol, self.rhs = mat.getVecs()\n",
    "        self.rhs.setArray(rhs)\n",
    "        \n",
    "        \n",
    "        #---- Set up solver -----\n",
    "        self.ksp = PETSc.KSP().create(comm=comm)\n",
    "        \n",
    "        # It is commonly used with the direct solver preconditioners like PCLU and PCCHOLESKY\n",
    "        self.ksp.setType('preonly')\n",
    "        pc = self.ksp.getPC()\n",
    "        pc.setType('lu')\n",
    "        pc.setFactorSolverType(solver)\n",
    "        \n",
    "        self.ksp.setOperators(mat)\n",
    "        self.ksp.setFromOptions() # Apply any command line options\n",
    "        self.ksp.setUp()\n",
    "    \n",
    "    def solve(self): \n",
    "        # st=timeit.default_timer()\n",
    "        self.ksp.solve(self.rhs, self.sol)"
   ]
  },
  {
   "cell_type": "code",
   "execution_count": 8,
   "id": "98c3267a",
   "metadata": {},
   "outputs": [
    {
     "ename": "Error",
     "evalue": "error code 92\n[0] KSPSetUp() at /tmp/pip-install-2x65nar3/petsc_b326dc8bd4f2425eb0909dc9ac22484b/src/ksp/ksp/interface/itfunc.c:406\n[0] PCSetUp() at /tmp/pip-install-2x65nar3/petsc_b326dc8bd4f2425eb0909dc9ac22484b/src/ksp/pc/interface/precon.c:994\n[0] PCSetUp_LU() at /tmp/pip-install-2x65nar3/petsc_b326dc8bd4f2425eb0909dc9ac22484b/src/ksp/pc/impls/factor/lu/lu.c:80\n[0] MatGetFactor() at /tmp/pip-install-2x65nar3/petsc_b326dc8bd4f2425eb0909dc9ac22484b/src/mat/interface/matrix.c:4743\n[0] See https://petsc.org/release/overview/linear_solve_table/ for possible LU and Cholesky solvers\n[0] Could not locate solver type mumps for factorization type LU and matrix type seqaij. Perhaps you must ./configure with --download-mumps",
     "output_type": "error",
     "traceback": [
      "\u001b[0;31m---------------------------------------------------------------------------\u001b[0m",
      "\u001b[0;31mError\u001b[0m                                     Traceback (most recent call last)",
      "Cell \u001b[0;32mIn [8], line 3\u001b[0m\n\u001b[1;32m      1\u001b[0m (A_indptr, A_indices, A_data, b, shape) \u001b[38;5;241m=\u001b[39m CreateLocalMatVec(A, B_all)\n\u001b[0;32m----> 3\u001b[0m L \u001b[38;5;241m=\u001b[39m \u001b[43mLinearSystem\u001b[49m\u001b[43m(\u001b[49m\u001b[43mA\u001b[49m\u001b[38;5;241;43m=\u001b[39;49m\u001b[43m(\u001b[49m\u001b[43mA_indptr\u001b[49m\u001b[43m,\u001b[49m\u001b[43m \u001b[49m\u001b[43mA_indices\u001b[49m\u001b[43m,\u001b[49m\u001b[43m \u001b[49m\u001b[43mA_data\u001b[49m\u001b[43m)\u001b[49m\u001b[43m,\u001b[49m\u001b[43m \u001b[49m\u001b[43mrhs\u001b[49m\u001b[38;5;241;43m=\u001b[39;49m\u001b[43mb\u001b[49m\u001b[43m,\u001b[49m\u001b[43m \u001b[49m\u001b[43mshape\u001b[49m\u001b[38;5;241;43m=\u001b[39;49m\u001b[43mshape\u001b[49m\u001b[43m,\u001b[49m\u001b[43m \u001b[49m\u001b[43msolver\u001b[49m\u001b[38;5;241;43m=\u001b[39;49m\u001b[38;5;124;43m\"\u001b[39;49m\u001b[38;5;124;43mmumps\u001b[39;49m\u001b[38;5;124;43m\"\u001b[39;49m\u001b[43m)\u001b[49m\n\u001b[1;32m      4\u001b[0m ts \u001b[38;5;241m=\u001b[39m MPI\u001b[38;5;241m.\u001b[39mWtime()\n\u001b[1;32m      5\u001b[0m L\u001b[38;5;241m.\u001b[39msolve()\n",
      "Cell \u001b[0;32mIn [7], line 29\u001b[0m, in \u001b[0;36mLinearSystem.__init__\u001b[0;34m(self, A, shape, rhs, solver, comm)\u001b[0m\n\u001b[1;32m     27\u001b[0m \u001b[38;5;28mself\u001b[39m\u001b[38;5;241m.\u001b[39mksp\u001b[38;5;241m.\u001b[39msetOperators(mat)\n\u001b[1;32m     28\u001b[0m \u001b[38;5;28mself\u001b[39m\u001b[38;5;241m.\u001b[39mksp\u001b[38;5;241m.\u001b[39msetFromOptions() \u001b[38;5;66;03m# Apply any command line options\u001b[39;00m\n\u001b[0;32m---> 29\u001b[0m \u001b[38;5;28;43mself\u001b[39;49m\u001b[38;5;241;43m.\u001b[39;49m\u001b[43mksp\u001b[49m\u001b[38;5;241;43m.\u001b[39;49m\u001b[43msetUp\u001b[49m\u001b[43m(\u001b[49m\u001b[43m)\u001b[49m\n",
      "File \u001b[0;32mpetsc4py/PETSc/KSP.pyx:390\u001b[0m, in \u001b[0;36mpetsc4py.PETSc.KSP.setUp\u001b[0;34m()\u001b[0m\n",
      "\u001b[0;31mError\u001b[0m: error code 92\n[0] KSPSetUp() at /tmp/pip-install-2x65nar3/petsc_b326dc8bd4f2425eb0909dc9ac22484b/src/ksp/ksp/interface/itfunc.c:406\n[0] PCSetUp() at /tmp/pip-install-2x65nar3/petsc_b326dc8bd4f2425eb0909dc9ac22484b/src/ksp/pc/interface/precon.c:994\n[0] PCSetUp_LU() at /tmp/pip-install-2x65nar3/petsc_b326dc8bd4f2425eb0909dc9ac22484b/src/ksp/pc/impls/factor/lu/lu.c:80\n[0] MatGetFactor() at /tmp/pip-install-2x65nar3/petsc_b326dc8bd4f2425eb0909dc9ac22484b/src/mat/interface/matrix.c:4743\n[0] See https://petsc.org/release/overview/linear_solve_table/ for possible LU and Cholesky solvers\n[0] Could not locate solver type mumps for factorization type LU and matrix type seqaij. Perhaps you must ./configure with --download-mumps"
     ]
    }
   ],
   "source": [
    "(A_indptr, A_indices, A_data, b, shape) = CreateLocalMatVec(A, B_all)\n",
    "\n",
    "L = LinearSystem(A=(A_indptr, A_indices, A_data), rhs=b, shape=shape, solver=\"mumps\")\n",
    "ts = MPI.Wtime()\n",
    "L.solve()\n",
    "te = MPI.Wtime()\n",
    "tt = comm.reduce(te - ts, op=MPI.MAX, root=0)\n",
    "if rank == 0:\n",
    "    print(\"Timing to solve the linear system with petsc\", tt)"
   ]
  },
  {
   "cell_type": "code",
   "execution_count": null,
   "id": "b658cf09",
   "metadata": {},
   "outputs": [],
   "source": [
    "#---- Gather the solution onto a single array on the master MPI task\n",
    "if rank == 0:\n",
    "    X = np.empty(shape[0],dtype=np.double)\n",
    "else:\n",
    "    X = None\n",
    "comm.Gatherv(L.sol.array,X)"
   ]
  },
  {
   "cell_type": "code",
   "execution_count": null,
   "id": "37b14595",
   "metadata": {},
   "outputs": [],
   "source": [
    "np.random.seed(42)\n",
    "\n",
    "if rank == 0:\n",
    "    B = SparseMatrix(A.toarray())\n",
    "    \n",
    "    from scipy import sparse\n",
    "    from scipy.sparse.linalg import spsolve\n",
    "    mat = sparse.csr_matrix((B.vals, (B.rows, B.cols)))\n",
    "    ts = MPI.Wtime()\n",
    "    sol = spsolve(mat, b)\n",
    "    te = MPI.Wtime()\n",
    "    print(\"Timing to solve the linear system with spsolve\", te - ts)"
   ]
  },
  {
   "cell_type": "code",
   "execution_count": null,
   "id": "60d948f8",
   "metadata": {},
   "outputs": [],
   "source": [
    "if rank == 0:\n",
    "    print(np.allclose(X,sol))"
   ]
  },
  {
   "cell_type": "markdown",
   "id": "b0e57535",
   "metadata": {},
   "source": [
    "Put your response below:"
   ]
  },
  {
   "cell_type": "markdown",
   "id": "05c04c32",
   "metadata": {},
   "source": []
  }
 ],
 "metadata": {
  "kernelspec": {
   "display_name": "Python 3 (ipykernel)",
   "language": "python",
   "name": "python3"
  },
  "language_info": {
   "codemirror_mode": {
    "name": "ipython",
    "version": 3
   },
   "file_extension": ".py",
   "mimetype": "text/x-python",
   "name": "python",
   "nbconvert_exporter": "python",
   "pygments_lexer": "ipython3",
   "version": "3.10.7"
  }
 },
 "nbformat": 4,
 "nbformat_minor": 5
}
