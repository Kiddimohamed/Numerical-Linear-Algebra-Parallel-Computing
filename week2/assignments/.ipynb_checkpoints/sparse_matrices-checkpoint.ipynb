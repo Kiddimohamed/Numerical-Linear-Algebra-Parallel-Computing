{
 "cells": [
  {
   "cell_type": "markdown",
   "id": "aea03da3",
   "metadata": {},
   "source": [
    "In this assignement, feel free to use the `sparse` module from `scipy`."
   ]
  },
  {
   "cell_type": "markdown",
   "id": "2df42bcc",
   "metadata": {},
   "source": [
    "Use the cell below for your imports."
   ]
  },
  {
   "cell_type": "code",
   "execution_count": 1,
   "id": "e9644e55",
   "metadata": {},
   "outputs": [],
   "source": [
    "from scipy.sparse import csr_matrix\n",
    "import scipy.sparse as sp\n",
    "import numpy as np\n",
    "from scipy.sparse import coo_matrix\n"
   ]
  },
  {
   "cell_type": "markdown",
   "id": "8948a816",
   "metadata": {},
   "source": [
    "implement the function `mat_mul_coo` that takes two sparse matrices in `coo` and returns their product."
   ]
  },
  {
   "cell_type": "code",
   "execution_count": 65,
   "id": "222be860",
   "metadata": {},
   "outputs": [],
   "source": [
    "def mat_mul_coo(A, B):\n",
    "    if A.shape[1] != B.shape[0]:\n",
    "        raise ValueError('Incompatible shapes')\n",
    " \n",
    "    C = sp.coo_matrix((data, (rows, cols)), shape=(A.shape[0], B.shape[1]))\n",
    "    C = A.dot(B)\n",
    "    print(C.toarray())"
   ]
  },
  {
   "cell_type": "code",
   "execution_count": 85,
   "id": "c3cfa6f8",
   "metadata": {},
   "outputs": [],
   "source": [
    "A = sp.coo_matrix([[3, 0, 2], [0, 1, 0], [5, 0, 0]])\n",
    "B = sp.coo_matrix([[1, 0, 4], [0, 2, 0], [0, 0, 0]])"
   ]
  },
  {
   "cell_type": "code",
   "execution_count": 86,
   "id": "67f2a66f",
   "metadata": {},
   "outputs": [],
   "source": [
    "import numpy as np\n",
    "import scipy.sparse as sp\n",
    "\n",
    "def mat_mul_coo(A, B):\n",
    "    A = A.tocsr()\n",
    "    B = B.tocsr()\n",
    "    # Ensure that the number of columns in A matches the number of rows in B\n",
    "    if A.shape[1] != B.shape[0]:\n",
    "        raise ValueError(\"Dimension mismatch: A has %d columns but B has %d rows\" % (A.shape[1], B.shape[0]))\n",
    "    \n",
    "    # Initialize the output matrix C as an empty COO matrix with the appropriate shape\n",
    "    C = sp.coo_matrix((A.shape[0], B.shape[1]), dtype=A.dtype)\n",
    "    \n",
    "    # Iterate over all non-zero rows of A\n",
    "    for i in range(A.shape[0]):\n",
    "        row_start = A.indptr[i]\n",
    "        row_end = A.indptr[i+1]\n",
    "        \n",
    "        # Iterate over all non-zero elements in the i-th row of A\n",
    "        for j in range(row_start, row_end):\n",
    "            col = A.indices[j]\n",
    "            a_ij = A.data[j]\n",
    "            \n",
    "             # Compute the product of a_ij with each non-zero element in the j-th column of B\n",
    "            b_col_indices = B.indices[B.indptr[col]:B.indptr[col+1]]\n",
    "            b_col_values = B.data[B.indptr[col]:B.indptr[col+1]]\n",
    "            c_row_indices = np.full(len(b_col_values), i, dtype=int)\n",
    "            c_col_indices = b_col_indices\n",
    "            c_values = a_ij * b_col_values\n",
    "            \n",
    "            # Update the non-zero elements in the corresponding row of C\n",
    "            C += sp.coo_matrix((c_values, (c_row_indices, c_col_indices)), shape=C.shape, dtype=A.dtype)\n",
    "    \n",
    "    # Return the output matrix C\n",
    "    return C.toarray()\n"
   ]
  },
  {
   "cell_type": "code",
   "execution_count": 87,
   "id": "911a1dec",
   "metadata": {},
   "outputs": [
    {
     "data": {
      "text/plain": [
       "array([[ 3,  0, 12],\n",
       "       [ 0,  2,  0],\n",
       "       [ 5,  0, 20]])"
      ]
     },
     "execution_count": 87,
     "metadata": {},
     "output_type": "execute_result"
    }
   ],
   "source": [
    "mat_mul_coo(A, B)"
   ]
  },
  {
   "cell_type": "code",
   "execution_count": 88,
   "id": "473709b5",
   "metadata": {},
   "outputs": [
    {
     "name": "stdout",
     "output_type": "stream",
     "text": [
      "  (0, 0)\t1\n",
      "  (0, 1)\t2\n",
      "  (1, 2)\t3\n",
      "  (3, 3)\t4   (0, 0)\t1\n",
      "  (0, 1)\t2\n",
      "  (1, 2)\t3\n",
      "  (3, 3)\t4\n"
     ]
    }
   ],
   "source": [
    "\n",
    "# Define the data, row, and column arrays\n",
    "data = np.array([1, 2, 3, 4])\n",
    "row = np.array([0, 0, 1, 3])\n",
    "col = np.array([0, 1, 2, 3])\n",
    "\n",
    "# Define the data, row, and column arrays\n",
    "data1 = np.array([1, 2, 3, 4])\n",
    "row1 = np.array([0, 0, 1, 3])\n",
    "col1 = np.array([0, 1, 2, 3])\n",
    "\n",
    "# Create the sparse matrix in COO format\n",
    "sparse_coo = coo_matrix((data, (row, col)), shape=(4, 4))\n",
    "sparse_coo1 = coo_matrix((data, (row, col)), shape=(4, 4))\n",
    "\n",
    "# Print the sparse matrix in COO format\n",
    "print(sparse_coo,sparse_coo1)"
   ]
  },
  {
   "cell_type": "markdown",
   "id": "4a626dec",
   "metadata": {},
   "source": [
    "implement the function `mat_mul_csr` that takes two sparse matrices in `csr` format and returns their product."
   ]
  },
  {
   "cell_type": "code",
   "execution_count": 89,
   "id": "c2e56fbd",
   "metadata": {},
   "outputs": [],
   "source": [
    "\n",
    "def csr_matrix_multiply(A, B):\n",
    "    if A.shape[1] != B.shape[0]:\n",
    "        raise ValueError(\"The number of columns in A must match the number of rows in B.\")\n",
    "    \n",
    "    rows_C = []\n",
    "    cols_C = []\n",
    "    data_C = []\n",
    "    ptrs_C = [0]\n",
    "    \n",
    "    for i in range(A.shape[0]):\n",
    "        for j in range(B.shape[1]):\n",
    "            dot_product = 0\n",
    "            for k_A in range(A.indptr[i], A.indptr[i+1]):\n",
    "                k_B = B.indptr[A.indices[k_A]]\n",
    "                while k_B < B.indptr[A.indices[k_A]+1] and B.indices[k_B] <= j:\n",
    "                    if B.indices[k_B] == j:\n",
    "                        dot_product += A.data[k_A] * B.data[k_B]\n",
    "                    k_B += 1\n",
    "            if dot_product != 0:\n",
    "                rows_C.append(i)\n",
    "                cols_C.append(j)\n",
    "                data_C.append(dot_product)\n",
    "        ptrs_C.append(len(data_C))\n",
    "    \n",
    "    C = csr_matrix((data_C, (rows_C, cols_C)), shape=(A.shape[0], B.shape[1]))\n",
    "    C.indptr = np.array(ptrs_C)\n",
    "    \n",
    "    return C"
   ]
  },
  {
   "cell_type": "code",
   "execution_count": 90,
   "id": "2f9b6395",
   "metadata": {},
   "outputs": [
    {
     "data": {
      "text/plain": [
       "([25], [0], [0, 1, 1, 1])"
      ]
     },
     "execution_count": 90,
     "metadata": {},
     "output_type": "execute_result"
    }
   ],
   "source": [
    "mat_mul_csr(A, B)"
   ]
  },
  {
   "cell_type": "markdown",
   "id": "9592a90b",
   "metadata": {},
   "source": [
    "implement a function solve_lin_sys that takes a matrix A in csr format and a vector b as a numpy array and solves the system Ax = b.\n",
    "\n"
   ]
  },
  {
   "cell_type": "code",
   "execution_count": 92,
   "id": "00edeb4c",
   "metadata": {},
   "outputs": [],
   "source": [
    "import numpy as np\n",
    "from scipy.sparse import csr_matrix\n",
    "\n",
    "def solve_lin_sys(A, b):\n",
    "    # Convert A to CSR format\n",
    "    A_csr = csr_matrix(A)\n",
    "    \n",
    "    # Get the number of rows in A\n",
    "    n = A_csr.shape[0]\n",
    "    \n",
    "    # Initialize the solution vector x\n",
    "    x = np.zeros(n)\n",
    "    \n",
    "    # Iterate over the rows of A\n",
    "    for i in range(n):\n",
    "        # Get the indices and data for the non-zero elements in row i\n",
    "        row_data = A_csr.data[A_csr.indptr[i]:A_csr.indptr[i+1]]\n",
    "        row_indices = A_csr.indices[A_csr.indptr[i]:A_csr.indptr[i+1]]\n",
    "        \n",
    "        # Compute the dot product of row i and x to get the ith element of Ax\n",
    "        Ax_i = np.dot(row_data, x[row_indices])\n",
    "        \n",
    "        # Compute the ith element of x using the formula: x_i = (b_i - Ax_i) / A[i,i]\n",
    "        x[i] = (b[i] - Ax_i) / A_csr[i,i]\n",
    "    \n",
    "    return x"
   ]
  },
  {
   "cell_type": "code",
   "execution_count": 93,
   "id": "e690c3a7",
   "metadata": {},
   "outputs": [
    {
     "name": "stdout",
     "output_type": "stream",
     "text": [
      "[ 1.         -0.4        -0.08888889]\n"
     ]
    }
   ],
   "source": [
    "import numpy as np\n",
    "from scipy.sparse import csr_matrix\n",
    "\n",
    "# Define a 3x3 matrix A in CSR format\n",
    "data = np.array([1, 2, 3, 4, 5, 6, 7, 8, 9])\n",
    "indices = np.array([0, 1, 2, 0, 1, 2, 0, 1, 2])\n",
    "indptr = np.array([0, 3, 6, 9])\n",
    "A = csr_matrix((data, indices, indptr), shape=(3, 3))\n",
    "\n",
    "# Define a 3x1 vector b\n",
    "b = np.array([1, 2, 3])\n",
    "\n",
    "# Solve the linear system Ax = b\n",
    "x = solve_lin_sys(A, b)\n",
    "\n",
    "# Print the solution\n",
    "print(x)"
   ]
  },
  {
   "cell_type": "code",
   "execution_count": null,
   "id": "a183f45b",
   "metadata": {},
   "outputs": [],
   "source": []
  }
 ],
 "metadata": {
  "kernelspec": {
   "display_name": "Python 3 (ipykernel)",
   "language": "python",
   "name": "python3"
  },
  "language_info": {
   "codemirror_mode": {
    "name": "ipython",
    "version": 3
   },
   "file_extension": ".py",
   "mimetype": "text/x-python",
   "name": "python",
   "nbconvert_exporter": "python",
   "pygments_lexer": "ipython3",
   "version": "3.10.7"
  }
 },
 "nbformat": 4,
 "nbformat_minor": 5
}
