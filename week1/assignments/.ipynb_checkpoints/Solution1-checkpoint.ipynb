{
 "cells": [
  {
   "cell_type": "markdown",
   "id": "529308bf",
   "metadata": {},
   "source": [
    "# Numerical Linear Algebra & Parallel Computing"
   ]
  },
  {
   "cell_type": "markdown",
   "id": "427d2266",
   "metadata": {},
   "source": [
    "### KIDDI MOHAMED"
   ]
  },
  {
   "cell_type": "markdown",
   "id": "bb4b299b",
   "metadata": {},
   "source": [
    "###### Nouredine Ouhaddou ◾ Mohamed Jalal Maaouni ◾ Ibrahim El Mountasser"
   ]
  },
  {
   "cell_type": "markdown",
   "id": "895113de",
   "metadata": {},
   "source": [
    "### Complexity Analysis"
   ]
  },
  {
   "cell_type": "markdown",
   "id": "678b59ed",
   "metadata": {},
   "source": [
    "#Introduction\n",
    "1) Describe solution 1\n",
    "2) Describe solution 2\n",
    "3) Run the two programs for different values of n and measure which algorithm is faster.\n",
    "4) Calculate the number of operations executed by each of the programs for different\n",
    "values of n and generalize for any n."
   ]
  },
  {
   "cell_type": "markdown",
   "id": "3ee6cb5c",
   "metadata": {},
   "source": [
    "### First Solution"
   ]
  },
  {
   "cell_type": "code",
   "execution_count": 178,
   "id": "8366478f",
   "metadata": {},
   "outputs": [],
   "source": [
    "def count_divisors1(n):\n",
    "    count=0\n",
    "    d=1\n",
    "    while d<=n:\n",
    "        if n%d==0:\n",
    "            count+=1\n",
    "        d+=1\n",
    "    return count"
   ]
  },
  {
   "cell_type": "markdown",
   "id": "952460c0",
   "metadata": {},
   "source": [
    "### Second solution"
   ]
  },
  {
   "cell_type": "code",
   "execution_count": 179,
   "id": "b19cfed8",
   "metadata": {},
   "outputs": [],
   "source": [
    "def count_divisors2(n):\n",
    "    count=0\n",
    "    d=1\n",
    "    while d*d<=n:\n",
    "        if n%d==0:\n",
    "            count+=1 if n/d==d else 2\n",
    "        d+=1\n",
    "    return count"
   ]
  },
  {
   "cell_type": "markdown",
   "id": "0213a8b6",
   "metadata": {},
   "source": [
    "### Other Solution"
   ]
  },
  {
   "cell_type": "code",
   "execution_count": 180,
   "id": "9cc14456",
   "metadata": {},
   "outputs": [],
   "source": [
    "def count_divisors3(n):\n",
    "    count=1\n",
    "    d=1\n",
    "    while d <= n/2:\n",
    "        if n%d==0:\n",
    "            count+=1\n",
    "        d+=1\n",
    "    return count"
   ]
  },
  {
   "cell_type": "markdown",
   "id": "ab359469",
   "metadata": {},
   "source": [
    "###### 1) Describe solution 1"
   ]
  },
  {
   "cell_type": "markdown",
   "id": "36daf071",
   "metadata": {},
   "source": [
    "For the first solution we iterate in the while loop for n times and for each time we check if the value of n%d==0 , (ie check if d devide n or not) if yes we increment the values of 'count' then as a  result we will find the number of divisors of a given n "
   ]
  },
  {
   "cell_type": "markdown",
   "id": "153eb916",
   "metadata": {},
   "source": [
    "###### 2) Describe solution 2"
   ]
  },
  {
   "cell_type": "markdown",
   "id": "c9df4da4",
   "metadata": {},
   "source": [
    "for the second solution we iterate just for sqrt(n) and based on a rule that if d is a divisor of n, then n/d is also a divisor of n. \\\n",
    "Therefore, instead of iterating through all integers from 1 to n, it only iterates through all integers from 1 to sqrt(n) and check if they devide n in this case we will increment by 2 , but if n/d to d then we will just increment by 1. \\\n",
    "and as the first function  , our function retun the numbers of divisors for a given n ."
   ]
  },
  {
   "cell_type": "markdown",
   "id": "96d5cbd6",
   "metadata": {},
   "source": [
    "###### 3) Run the two programs for different values of n and measure which algorithm is faster. "
   ]
  },
  {
   "cell_type": "code",
   "execution_count": 190,
   "id": "387c25e9",
   "metadata": {},
   "outputs": [
    {
     "name": "stdout",
     "output_type": "stream",
     "text": [
      "CPU times: user 65 µs, sys: 0 ns, total: 65 µs\n",
      "Wall time: 66 µs\n"
     ]
    }
   ],
   "source": [
    "a= %time count_divisors1(1000)"
   ]
  },
  {
   "cell_type": "code",
   "execution_count": 182,
   "id": "0be648a8",
   "metadata": {},
   "outputs": [
    {
     "name": "stdout",
     "output_type": "stream",
     "text": [
      "CPU times: user 6 µs, sys: 0 ns, total: 6 µs\n",
      "Wall time: 7.39 µs\n"
     ]
    },
    {
     "data": {
      "text/plain": [
       "16"
      ]
     },
     "execution_count": 182,
     "metadata": {},
     "output_type": "execute_result"
    }
   ],
   "source": [
    "%time count_divisors2(1000)"
   ]
  },
  {
   "cell_type": "code",
   "execution_count": 192,
   "id": "a5ab425b",
   "metadata": {},
   "outputs": [
    {
     "name": "stdout",
     "output_type": "stream",
     "text": [
      "CPU times: user 42 µs, sys: 0 ns, total: 42 µs\n",
      "Wall time: 43.9 µs\n"
     ]
    },
    {
     "data": {
      "text/plain": [
       "16"
      ]
     },
     "execution_count": 192,
     "metadata": {},
     "output_type": "execute_result"
    }
   ],
   "source": [
    "%time count_divisors3(1000)"
   ]
  },
  {
   "cell_type": "markdown",
   "id": "72e09b61",
   "metadata": {},
   "source": [
    "For n=1000\n",
    "The faster solution is the second one  *Wall time: 7.39 µs*, follow by the new solution *Wall time: 43.9 µs* and finally  the first one *Wall time: 66 µs*\n"
   ]
  },
  {
   "cell_type": "code",
   "execution_count": 184,
   "id": "fd54a802",
   "metadata": {},
   "outputs": [
    {
     "name": "stdout",
     "output_type": "stream",
     "text": [
      "CPU times: user 5.24 ms, sys: 0 ns, total: 5.24 ms\n",
      "Wall time: 5.3 ms\n"
     ]
    },
    {
     "data": {
      "text/plain": [
       "36"
      ]
     },
     "execution_count": 184,
     "metadata": {},
     "output_type": "execute_result"
    }
   ],
   "source": [
    "%time count_divisors1(100000)"
   ]
  },
  {
   "cell_type": "code",
   "execution_count": 185,
   "id": "30bdc5e1",
   "metadata": {},
   "outputs": [
    {
     "name": "stdout",
     "output_type": "stream",
     "text": [
      "CPU times: user 29 µs, sys: 0 ns, total: 29 µs\n",
      "Wall time: 31 µs\n"
     ]
    },
    {
     "data": {
      "text/plain": [
       "36"
      ]
     },
     "execution_count": 185,
     "metadata": {},
     "output_type": "execute_result"
    }
   ],
   "source": [
    "%time count_divisors2(100000)"
   ]
  },
  {
   "cell_type": "code",
   "execution_count": 186,
   "id": "92b6f872",
   "metadata": {},
   "outputs": [
    {
     "name": "stdout",
     "output_type": "stream",
     "text": [
      "CPU times: user 3.67 ms, sys: 0 ns, total: 3.67 ms\n",
      "Wall time: 3.7 ms\n"
     ]
    },
    {
     "data": {
      "text/plain": [
       "36"
      ]
     },
     "execution_count": 186,
     "metadata": {},
     "output_type": "execute_result"
    }
   ],
   "source": [
    "%time count_divisors3(100000)"
   ]
  },
  {
   "cell_type": "markdown",
   "id": "ed329b4a",
   "metadata": {},
   "source": [
    "For n=100000\n",
    "The faster solution is the second one  *Wall time: 31 µs*, follow by the new solution *Wall time: 3.7 ms* and finally  the first one *Wall time: 5.3 ms*\n"
   ]
  },
  {
   "cell_type": "code",
   "execution_count": 193,
   "id": "33704ce4",
   "metadata": {},
   "outputs": [
    {
     "name": "stdout",
     "output_type": "stream",
     "text": [
      "CPU times: user 4.83 s, sys: 0 ns, total: 4.83 s\n",
      "Wall time: 4.84 s\n"
     ]
    },
    {
     "data": {
      "text/plain": [
       "81"
      ]
     },
     "execution_count": 193,
     "metadata": {},
     "output_type": "execute_result"
    }
   ],
   "source": [
    "%time count_divisors1(100000000)"
   ]
  },
  {
   "cell_type": "code",
   "execution_count": 188,
   "id": "5312d0a0",
   "metadata": {},
   "outputs": [
    {
     "name": "stdout",
     "output_type": "stream",
     "text": [
      "CPU times: user 758 µs, sys: 0 ns, total: 758 µs\n",
      "Wall time: 759 µs\n"
     ]
    },
    {
     "data": {
      "text/plain": [
       "81"
      ]
     },
     "execution_count": 188,
     "metadata": {},
     "output_type": "execute_result"
    }
   ],
   "source": [
    "%time count_divisors2(100000000)"
   ]
  },
  {
   "cell_type": "code",
   "execution_count": 189,
   "id": "b5da3747",
   "metadata": {},
   "outputs": [
    {
     "name": "stdout",
     "output_type": "stream",
     "text": [
      "CPU times: user 3.31 s, sys: 0 ns, total: 3.31 s\n",
      "Wall time: 3.31 s\n"
     ]
    },
    {
     "data": {
      "text/plain": [
       "81"
      ]
     },
     "execution_count": 189,
     "metadata": {},
     "output_type": "execute_result"
    }
   ],
   "source": [
    "%time count_divisors3(100000000)"
   ]
  },
  {
   "cell_type": "markdown",
   "id": "8da79849",
   "metadata": {},
   "source": [
    "For n=100000000\n",
    "The faster solution is the second one  *Wall time: 759 µs*, follow by the new solution *Wall time: 3.31 s* and finally  the first one *Wall time: 4.84 s*\n"
   ]
  },
  {
   "cell_type": "markdown",
   "id": "3534e869",
   "metadata": {},
   "source": [
    "Then we notice that the second solution is the faster one , and there is a big difference between the second one and the others ."
   ]
  },
  {
   "cell_type": "markdown",
   "id": "aeaa8e09",
   "metadata": {},
   "source": [
    "###### 4) Calculate the number of opera.ons executed by each of the programs for different values of n and generalize for any n. "
   ]
  },
  {
   "cell_type": "markdown",
   "id": "f8af60b4",
   "metadata": {},
   "source": [
    "n =1000 \\\n",
    "For the first solution : \\\n",
    "there is two operation of declaration (count and d )also the loop while execute 1000 times in each time there is one modulo operation  and one addition(d+=1) then 2000, and we will add the addition (count+=1) count times , and in n=1000 count = 16 \\\n",
    "then the number of operations in 2018\n",
    "n =100000 \\\n",
    "the same logic we will find number of operation is 200038 \\\n",
    "n =100000000 \\\n",
    "the same logic we will find number of operation is 200000083 \\\n",
    "then \n",
    "number of operation= 2\\*n+2+count.\n",
    "\n",
    "As we notice that the value of count is negligible then we can say that : \\\n",
    "number of operation is equivalent to 2*n then we can conclude that the complexity of the first solution is O(n).\n",
    "\n"
   ]
  },
  {
   "cell_type": "markdown",
   "id": "58a031c5",
   "metadata": {},
   "source": [
    "n =1000 \\\n",
    "For the second solution : \\\n",
    "there is two operation of initialization of count and d ,and a while loop that iterates sqrt(1000) times, and in each iteration there is n%d==0 the total number of operations executed by this function for n=1000 is  equivalent to 2sqrt(1000) + 2 \n",
    "\n",
    "n =100000 \\\n",
    "the same logic we will find number of operation is equivalent to  2sqrt(100000) + 2 \\ \n",
    "\n",
    "in this solution we can t calculate the exacte number of operation because we cannot use the variable count as we did before , because it didn t give us the number of time that the two operation 'n/d==d' and  'count+=1 or 2 ' happends . \\\n",
    "then we just estimate the values and trying to negligate the other values \n",
    "\n",
    "In general The number of operation is close to 2sqrt(n)+2 therefore the complexity of the second solution is O(sqrt(n)) \n"
   ]
  },
  {
   "cell_type": "markdown",
   "id": "91893805",
   "metadata": {},
   "source": [
    "#### Big-O notation\n",
    "###### T(n)=3 *n^3+2*n^2+ 1/2*n+7, prove that T(n)=O(n^3)"
   ]
  },
  {
   "cell_type": "markdown",
   "id": "da5fa514",
   "metadata": {},
   "source": [
    "if eventually for all sufficiently large n, T(n) is bounded above by 3*n^3   We can see that as n grows, the dominant term becomes n^3. \n",
    "then the complexity of T(n) is n^3"
   ]
  },
  {
   "cell_type": "markdown",
   "id": "370a450b",
   "metadata": {},
   "source": [
    "###### Prove that for every k>=1, n^k is not O(n^(k-1))"
   ]
  },
  {
   "cell_type": "markdown",
   "id": "8c08e60b",
   "metadata": {},
   "source": [
    "To prove it ,we will use a proof by contradiction .\n",
    "Assume that for some k>=1, n^k is O(n^(k-1)) \\ \n",
    "then by definition of big O notation, there exist constants c and n0 such that n^k <= c*n^(k-1) for all n >= n0\n",
    "if we divide the both side by n^(k-1), we get n <= c for all n >= n0\n",
    "This is a contradiction.\n",
    "ince for any value of c, there will always exist an n such that n > c, and thus the inequality n <= c cannot hold for all n >= n0.\n",
    "Therefore, we can conclude that for every k>=1, n^k is not O(n^(k-1))"
   ]
  },
  {
   "cell_type": "markdown",
   "id": "ff9e1c42",
   "metadata": {},
   "source": [
    "### Merge sort"
   ]
  },
  {
   "cell_type": "code",
   "execution_count": 1,
   "id": "16de7fa2",
   "metadata": {},
   "outputs": [],
   "source": [
    "def merge(A, B):\n",
    "    n = len(A)\n",
    "    m = len(B)\n",
    "    i = 0\n",
    "    j = 0\n",
    "    C = []\n",
    "    while i < n and j < m:\n",
    "        if A[i] <= B[j]:\n",
    "            C.append(A[i])\n",
    "            i += 1\n",
    "        else:\n",
    "            C.append(B[j])\n",
    "            j += 1\n",
    "    while i < n:\n",
    "        C.append(A[i])\n",
    "        i += 1\n",
    "    while j < m:\n",
    "        C.append(B[j])\n",
    "        j += 1\n",
    "    return C\n"
   ]
  },
  {
   "cell_type": "code",
   "execution_count": 6,
   "id": "186b9b27",
   "metadata": {},
   "outputs": [
    {
     "data": {
      "text/plain": [
       "[1, 2, 3, 4, 5, 6, 7, 8, 9, 10, 12]"
      ]
     },
     "execution_count": 6,
     "metadata": {},
     "output_type": "execute_result"
    }
   ],
   "source": [
    "A=[1,3,5,7,9]\n",
    "B=[2,4,6,8,10,12]\n",
    "C=merge(A,B)\n",
    "C"
   ]
  },
  {
   "cell_type": "markdown",
   "id": "9a3920c0",
   "metadata": {},
   "source": [
    "##### 2) Analyse the complexity of your function using Big-O notation."
   ]
  },
  {
   "cell_type": "markdown",
   "id": "b0c40d73",
   "metadata": {},
   "source": [
    "The time complexity of the first code is O(nm) because the outer loop iterates through each element of array A, and the inner loop iterates through each element of array B, resulting in n times m iterations in total if A has n elements and B has m elements.\n",
    "that if we assume that the A and B Are Already sorted "
   ]
  },
  {
   "cell_type": "markdown",
   "id": "19342055",
   "metadata": {},
   "source": [
    "### The master method"
   ]
  },
  {
   "cell_type": "markdown",
   "id": "c6c3fcea",
   "metadata": {},
   "source": [
    "##### 1) Using the master method analyse the complexity of merge sort."
   ]
  },
  {
   "cell_type": "markdown",
   "id": "4a3668c5",
   "metadata": {},
   "source": [
    "The rule that the master method follows is expressed as T(n) = a * T(n/b) + f(n), where T(n) represents the time complexity of an algorithm for a given input size n. Here, a is the number of subproblems generated at each recursive level, n/b is the size of the subproblem, and f(n) is the cost of combining the solutions and dividing the problems.\n",
    "\n",
    "In this particular case, we have T(n) = 2 * T(n/2) + O(n) (where f(n) = O(n¹) and d = 1), with a = 2 and b = 2. We can then check the second condition of the master method, which is that log_b(a) = log_2(2) = 1. This means that the time complexity of the algorithm is O(n^d log(n)), where d = 1. Therefore, the overall time complexity is O(nlog(n))."
   ]
  },
  {
   "cell_type": "markdown",
   "id": "4881e918",
   "metadata": {},
   "source": [
    "#### 2) Using the master method analyse the complexity of binary search"
   ]
  },
  {
   "cell_type": "markdown",
   "id": "57e94eaf",
   "metadata": {},
   "source": [
    " the time complexity of the algorithm is expressed as T(n) = T(n/2) + O(1), where f(n) is equal to O(n⁰) since d = 0. Here, a = 1 and b = 2.\n",
    "we apply the second condition of the master method, which states that log_b(a) = log_2(1) = 0. This implies that the time complexity of the algorithm is O(n^d log(n)), with a = 1 and b = 2. In this case, the complexity is simply O(log(n))."
   ]
  },
  {
   "cell_type": "markdown",
   "id": "12f1b8ec",
   "metadata": {},
   "source": [
    "#### Bonus"
   ]
  },
  {
   "cell_type": "markdown",
   "id": "89f10069",
   "metadata": {},
   "source": [
    "### Matrix multiplication\n"
   ]
  },
  {
   "cell_type": "markdown",
   "id": "bc4ab8bc",
   "metadata": {},
   "source": [
    "#### 1) Write a func.on using python3 that mul.ply two matrices A,B (without the use of numpy or any external library)"
   ]
  },
  {
   "cell_type": "code",
   "execution_count": 26,
   "id": "5f783ded",
   "metadata": {},
   "outputs": [],
   "source": [
    "def multi(A,B):\n",
    "    m=len(A)\n",
    "    n=len(A[0])\n",
    "    o=len(B)\n",
    "    p=len(B[0])\n",
    "    c = [[0 for row in range(p)]\n",
    "        for col in range(m)]\n",
    "    \n",
    "    if n!=o :\n",
    "        return 0\n",
    "    \n",
    "    for i in range(m):\n",
    "        for j in range(p):\n",
    "            for k in range(n):\n",
    "                c[i][j] += A[i][k] * B[k][j]\n",
    "    return c"
   ]
  },
  {
   "cell_type": "code",
   "execution_count": 27,
   "id": "d8716cec",
   "metadata": {},
   "outputs": [
    {
     "data": {
      "text/plain": [
       "[[-14, 41, 46], [-36, 53, 56]]"
      ]
     },
     "execution_count": 27,
     "metadata": {},
     "output_type": "execute_result"
    }
   ],
   "source": [
    "A = [[1, 4, 5], \n",
    "    [-5, 8, 9]]\n",
    "B = [[1, 4, 5], \n",
    "    [-5, 8, 9],\n",
    "      [1,1,1]]\n",
    "multi(A,B)"
   ]
  },
  {
   "cell_type": "markdown",
   "id": "56aae5b1",
   "metadata": {},
   "source": [
    "#### 2) What’s the complexity of your algorithm (using big-O notation)?"
   ]
  },
  {
   "cell_type": "markdown",
   "id": "8618c296",
   "metadata": {},
   "source": [
    "the complexity of our code is O(mpn), and in the simple case where our matrix are square the complexity become O(n^3)"
   ]
  },
  {
   "cell_type": "markdown",
   "id": "2b56f349",
   "metadata": {},
   "source": [
    "#### 3) Write the same func.on in C. (bonus)"
   ]
  },
  {
   "cell_type": "code",
   "execution_count": 28,
   "id": "be83e889",
   "metadata": {},
   "outputs": [
    {
     "ename": "SyntaxError",
     "evalue": "invalid syntax. Perhaps you forgot a comma? (657256586.py, line 4)",
     "output_type": "error",
     "traceback": [
      "\u001b[0;36m  Cell \u001b[0;32mIn [28], line 4\u001b[0;36m\u001b[0m\n\u001b[0;31m    int** multi(int **A, int **B, int m, int n, int o, int p) {\u001b[0m\n\u001b[0m                                  ^\u001b[0m\n\u001b[0;31mSyntaxError\u001b[0m\u001b[0;31m:\u001b[0m invalid syntax. Perhaps you forgot a comma?\n"
     ]
    }
   ],
   "source": [
    "#include <stdio.h>\n",
    "#include <stdlib.h>\n",
    "\n",
    "int** multi(int **A, int **B, int m, int n, int o, int p) {\n",
    "    int i, j, k;\n",
    "    int **C = (int **)malloc(m * sizeof(int *));\n",
    "    for (i = 0; i < m; i++)\n",
    "        C[i] = (int *)calloc(p, sizeof(int));\n",
    "\n",
    "    if (n != o)\n",
    "        return 0;\n",
    "\n",
    "    for (i = 0; i < m; i++) {\n",
    "        for (j = 0; j < p; j++) {\n",
    "            for (k = 0; k < n; k++) {\n",
    "                C[i][j] += A[i][k] * B[k][j];\n",
    "            }\n",
    "        }\n",
    "    }\n",
    "    return C;\n",
    "}\n"
   ]
  },
  {
   "cell_type": "markdown",
   "id": "d1b94daa",
   "metadata": {},
   "source": [
    "4) Optimize this multiplication and describe each step of your optimisation."
   ]
  },
  {
   "cell_type": "markdown",
   "id": "88f1f18b",
   "metadata": {},
   "source": [
    "1) Use list comprehension to initialize the result matrix C:\n",
    "Instead of using nested loops to initialize each element of the result matrix C, we can use a list comprehension to initialize it all at once. This is faster because list comprehensions are optimized in Python and are executed more quickly than nested loops.\n",
    "\n",
    "2)we can also use block matrix multiplication:\n",
    "By breaking down the matrices into smaller blocks, we can improve the efficiency of the algorithm by maximizing cache utilization and minimizing the amount of data accessed from memory."
   ]
  },
  {
   "cell_type": "code",
   "execution_count": 41,
   "id": "5c3f2fe7",
   "metadata": {},
   "outputs": [],
   "source": [
    "def multi(A, B):\n",
    "    m = len(A)\n",
    "    n = len(A[0])\n",
    "    o = len(B)\n",
    "    p = len(B[0])\n",
    "\n",
    "    if n != o:\n",
    "        return 0\n",
    "\n",
    "    # Use a list comprehension to initialize the result matrix C\n",
    "    # This is faster than using a nested loop to initialize each element\n",
    "    C = [[0] * p for _ in range(m)]\n",
    "    \n",
    "    for i in range(m):\n",
    "        for j in range(p):\n",
    "            for k in range(n):\n",
    "                C[i][j] += A[i][k] * B[k][j]\n",
    "    return C"
   ]
  },
  {
   "cell_type": "code",
   "execution_count": 42,
   "id": "e88eb148",
   "metadata": {},
   "outputs": [
    {
     "data": {
      "text/plain": [
       "[[-14, 41, 46], [-36, 53, 56]]"
      ]
     },
     "execution_count": 42,
     "metadata": {},
     "output_type": "execute_result"
    }
   ],
   "source": [
    "multi(A,B)"
   ]
  },
  {
   "cell_type": "code",
   "execution_count": null,
   "id": "b84ac61e",
   "metadata": {},
   "outputs": [],
   "source": []
  }
 ],
 "metadata": {
  "kernelspec": {
   "display_name": "Python 3 (ipykernel)",
   "language": "python",
   "name": "python3"
  },
  "language_info": {
   "codemirror_mode": {
    "name": "ipython",
    "version": 3
   },
   "file_extension": ".py",
   "mimetype": "text/x-python",
   "name": "python",
   "nbconvert_exporter": "python",
   "pygments_lexer": "ipython3",
   "version": "3.10.7"
  }
 },
 "nbformat": 4,
 "nbformat_minor": 5
}
